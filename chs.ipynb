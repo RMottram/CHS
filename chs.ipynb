{
 "cells": [
  {
   "cell_type": "markdown",
   "metadata": {},
   "source": [
    "# Libraries"
   ]
  },
  {
   "cell_type": "code",
   "execution_count": 1,
   "metadata": {},
   "outputs": [],
   "source": [
    "import numpy as np\n",
    "import matplotlib.pyplot as plt\n",
    "import os\n",
    "import pandas as pd\n",
    "import seaborn as sns\n",
    "import plotly.express as px\n",
    "\n",
    "\n",
    "from sklearn.model_selection import train_test_split\n",
    "from sklearn import svm, metrics\n",
    "from sklearn.cluster import KMeans"
   ]
  },
  {
   "cell_type": "markdown",
   "metadata": {},
   "source": [
    "# Import Data"
   ]
  },
  {
   "cell_type": "code",
   "execution_count": 2,
   "metadata": {},
   "outputs": [
    {
     "data": {
      "text/html": [
       "<div>\n",
       "<style scoped>\n",
       "    .dataframe tbody tr th:only-of-type {\n",
       "        vertical-align: middle;\n",
       "    }\n",
       "\n",
       "    .dataframe tbody tr th {\n",
       "        vertical-align: top;\n",
       "    }\n",
       "\n",
       "    .dataframe thead th {\n",
       "        text-align: right;\n",
       "    }\n",
       "</style>\n",
       "<table border=\"1\" class=\"dataframe\">\n",
       "  <thead>\n",
       "    <tr style=\"text-align: right;\">\n",
       "      <th></th>\n",
       "      <th>break_start</th>\n",
       "      <th>break_end</th>\n",
       "      <th>nights</th>\n",
       "      <th>num_guests</th>\n",
       "      <th>num_returns</th>\n",
       "      <th>returns_percentage</th>\n",
       "      <th>chs_to_date</th>\n",
       "      <th>actively_happy</th>\n",
       "      <th>happy</th>\n",
       "      <th>neutral</th>\n",
       "      <th>unhappy</th>\n",
       "      <th>actively_unhappy</th>\n",
       "      <th>actively_happy_perc</th>\n",
       "      <th>happy_perc</th>\n",
       "      <th>neutral_perc</th>\n",
       "      <th>unhappy_perc</th>\n",
       "      <th>actively_unhappy_perc</th>\n",
       "      <th>break_chs_score</th>\n",
       "    </tr>\n",
       "  </thead>\n",
       "  <tbody>\n",
       "    <tr>\n",
       "      <th>0</th>\n",
       "      <td>09/10/2020</td>\n",
       "      <td>12/10/2020</td>\n",
       "      <td>3</td>\n",
       "      <td>297</td>\n",
       "      <td>202</td>\n",
       "      <td>0.68</td>\n",
       "      <td>92</td>\n",
       "      <td>152</td>\n",
       "      <td>33</td>\n",
       "      <td>13</td>\n",
       "      <td>4</td>\n",
       "      <td>0</td>\n",
       "      <td>0.75</td>\n",
       "      <td>0.16</td>\n",
       "      <td>0.60</td>\n",
       "      <td>0.20</td>\n",
       "      <td>0.00</td>\n",
       "      <td>91</td>\n",
       "    </tr>\n",
       "    <tr>\n",
       "      <th>1</th>\n",
       "      <td>12/10/2020</td>\n",
       "      <td>16/10/2020</td>\n",
       "      <td>4</td>\n",
       "      <td>286</td>\n",
       "      <td>223</td>\n",
       "      <td>0.78</td>\n",
       "      <td>93</td>\n",
       "      <td>187</td>\n",
       "      <td>23</td>\n",
       "      <td>10</td>\n",
       "      <td>3</td>\n",
       "      <td>0</td>\n",
       "      <td>0.84</td>\n",
       "      <td>0.10</td>\n",
       "      <td>0.40</td>\n",
       "      <td>0.20</td>\n",
       "      <td>0.00</td>\n",
       "      <td>94</td>\n",
       "    </tr>\n",
       "    <tr>\n",
       "      <th>2</th>\n",
       "      <td>16/10/2020</td>\n",
       "      <td>19/10/2020</td>\n",
       "      <td>3</td>\n",
       "      <td>329</td>\n",
       "      <td>239</td>\n",
       "      <td>0.73</td>\n",
       "      <td>93</td>\n",
       "      <td>190</td>\n",
       "      <td>45</td>\n",
       "      <td>4</td>\n",
       "      <td>0</td>\n",
       "      <td>0</td>\n",
       "      <td>0.79</td>\n",
       "      <td>0.19</td>\n",
       "      <td>0.20</td>\n",
       "      <td>0.00</td>\n",
       "      <td>0.00</td>\n",
       "      <td>94</td>\n",
       "    </tr>\n",
       "    <tr>\n",
       "      <th>3</th>\n",
       "      <td>19/10/2020</td>\n",
       "      <td>23/10/2020</td>\n",
       "      <td>4</td>\n",
       "      <td>237</td>\n",
       "      <td>200</td>\n",
       "      <td>0.84</td>\n",
       "      <td>94</td>\n",
       "      <td>178</td>\n",
       "      <td>17</td>\n",
       "      <td>3</td>\n",
       "      <td>0</td>\n",
       "      <td>2</td>\n",
       "      <td>0.89</td>\n",
       "      <td>0.19</td>\n",
       "      <td>0.02</td>\n",
       "      <td>0.00</td>\n",
       "      <td>0.01</td>\n",
       "      <td>94</td>\n",
       "    </tr>\n",
       "    <tr>\n",
       "      <th>4</th>\n",
       "      <td>24/10/2020</td>\n",
       "      <td>28/10/2020</td>\n",
       "      <td>4</td>\n",
       "      <td>459</td>\n",
       "      <td>342</td>\n",
       "      <td>0.75</td>\n",
       "      <td>94</td>\n",
       "      <td>288</td>\n",
       "      <td>43</td>\n",
       "      <td>10</td>\n",
       "      <td>1</td>\n",
       "      <td>0</td>\n",
       "      <td>0.84</td>\n",
       "      <td>0.13</td>\n",
       "      <td>0.03</td>\n",
       "      <td>0.00</td>\n",
       "      <td>0.00</td>\n",
       "      <td>95</td>\n",
       "    </tr>\n",
       "    <tr>\n",
       "      <th>...</th>\n",
       "      <td>...</td>\n",
       "      <td>...</td>\n",
       "      <td>...</td>\n",
       "      <td>...</td>\n",
       "      <td>...</td>\n",
       "      <td>...</td>\n",
       "      <td>...</td>\n",
       "      <td>...</td>\n",
       "      <td>...</td>\n",
       "      <td>...</td>\n",
       "      <td>...</td>\n",
       "      <td>...</td>\n",
       "      <td>...</td>\n",
       "      <td>...</td>\n",
       "      <td>...</td>\n",
       "      <td>...</td>\n",
       "      <td>...</td>\n",
       "      <td>...</td>\n",
       "    </tr>\n",
       "    <tr>\n",
       "      <th>64</th>\n",
       "      <td>15/01/2022</td>\n",
       "      <td>17/01/2022</td>\n",
       "      <td>2</td>\n",
       "      <td>432</td>\n",
       "      <td>274</td>\n",
       "      <td>0.63</td>\n",
       "      <td>96</td>\n",
       "      <td>241</td>\n",
       "      <td>26</td>\n",
       "      <td>4</td>\n",
       "      <td>3</td>\n",
       "      <td>0</td>\n",
       "      <td>0.88</td>\n",
       "      <td>0.10</td>\n",
       "      <td>0.02</td>\n",
       "      <td>0.01</td>\n",
       "      <td>0.00</td>\n",
       "      <td>96</td>\n",
       "    </tr>\n",
       "    <tr>\n",
       "      <th>65</th>\n",
       "      <td>17/01/2022</td>\n",
       "      <td>19/01/2022</td>\n",
       "      <td>2</td>\n",
       "      <td>223</td>\n",
       "      <td>163</td>\n",
       "      <td>0.73</td>\n",
       "      <td>96</td>\n",
       "      <td>145</td>\n",
       "      <td>15</td>\n",
       "      <td>0</td>\n",
       "      <td>2</td>\n",
       "      <td>1</td>\n",
       "      <td>0.89</td>\n",
       "      <td>9.20</td>\n",
       "      <td>0.00</td>\n",
       "      <td>1.20</td>\n",
       "      <td>0.60</td>\n",
       "      <td>96</td>\n",
       "    </tr>\n",
       "    <tr>\n",
       "      <th>66</th>\n",
       "      <td>15/01/2022</td>\n",
       "      <td>19/01/2022</td>\n",
       "      <td>4</td>\n",
       "      <td>387</td>\n",
       "      <td>289</td>\n",
       "      <td>0.75</td>\n",
       "      <td>96</td>\n",
       "      <td>258</td>\n",
       "      <td>30</td>\n",
       "      <td>1</td>\n",
       "      <td>0</td>\n",
       "      <td>0</td>\n",
       "      <td>89.34</td>\n",
       "      <td>10.40</td>\n",
       "      <td>0.30</td>\n",
       "      <td>0.00</td>\n",
       "      <td>0.00</td>\n",
       "      <td>97</td>\n",
       "    </tr>\n",
       "    <tr>\n",
       "      <th>67</th>\n",
       "      <td>21/01/2022</td>\n",
       "      <td>24/01/2022</td>\n",
       "      <td>3</td>\n",
       "      <td>599</td>\n",
       "      <td>411</td>\n",
       "      <td>0.69</td>\n",
       "      <td>96</td>\n",
       "      <td>362</td>\n",
       "      <td>38</td>\n",
       "      <td>3</td>\n",
       "      <td>4</td>\n",
       "      <td>1</td>\n",
       "      <td>88.70</td>\n",
       "      <td>9.30</td>\n",
       "      <td>0.70</td>\n",
       "      <td>1.00</td>\n",
       "      <td>0.20</td>\n",
       "      <td>96</td>\n",
       "    </tr>\n",
       "    <tr>\n",
       "      <th>68</th>\n",
       "      <td>24/01/2022</td>\n",
       "      <td>28/01/2022</td>\n",
       "      <td>4</td>\n",
       "      <td>574</td>\n",
       "      <td>430</td>\n",
       "      <td>0.74</td>\n",
       "      <td>96</td>\n",
       "      <td>410</td>\n",
       "      <td>18</td>\n",
       "      <td>2</td>\n",
       "      <td>0</td>\n",
       "      <td>0</td>\n",
       "      <td>95.30</td>\n",
       "      <td>4.20</td>\n",
       "      <td>0.50</td>\n",
       "      <td>0.00</td>\n",
       "      <td>0.00</td>\n",
       "      <td>99</td>\n",
       "    </tr>\n",
       "  </tbody>\n",
       "</table>\n",
       "<p>69 rows × 18 columns</p>\n",
       "</div>"
      ],
      "text/plain": [
       "   break_start   break_end  nights  num_guests  num_returns  \\\n",
       "0   09/10/2020  12/10/2020       3         297          202   \n",
       "1   12/10/2020  16/10/2020       4         286          223   \n",
       "2   16/10/2020  19/10/2020       3         329          239   \n",
       "3   19/10/2020  23/10/2020       4         237          200   \n",
       "4   24/10/2020  28/10/2020       4         459          342   \n",
       "..         ...         ...     ...         ...          ...   \n",
       "64  15/01/2022  17/01/2022       2         432          274   \n",
       "65  17/01/2022  19/01/2022       2         223          163   \n",
       "66  15/01/2022  19/01/2022       4         387          289   \n",
       "67  21/01/2022  24/01/2022       3         599          411   \n",
       "68  24/01/2022  28/01/2022       4         574          430   \n",
       "\n",
       "    returns_percentage  chs_to_date  actively_happy  happy  neutral  unhappy  \\\n",
       "0                 0.68           92             152     33       13        4   \n",
       "1                 0.78           93             187     23       10        3   \n",
       "2                 0.73           93             190     45        4        0   \n",
       "3                 0.84           94             178     17        3        0   \n",
       "4                 0.75           94             288     43       10        1   \n",
       "..                 ...          ...             ...    ...      ...      ...   \n",
       "64                0.63           96             241     26        4        3   \n",
       "65                0.73           96             145     15        0        2   \n",
       "66                0.75           96             258     30        1        0   \n",
       "67                0.69           96             362     38        3        4   \n",
       "68                0.74           96             410     18        2        0   \n",
       "\n",
       "    actively_unhappy  actively_happy_perc  happy_perc  neutral_perc  \\\n",
       "0                  0                 0.75        0.16          0.60   \n",
       "1                  0                 0.84        0.10          0.40   \n",
       "2                  0                 0.79        0.19          0.20   \n",
       "3                  2                 0.89        0.19          0.02   \n",
       "4                  0                 0.84        0.13          0.03   \n",
       "..               ...                  ...         ...           ...   \n",
       "64                 0                 0.88        0.10          0.02   \n",
       "65                 1                 0.89        9.20          0.00   \n",
       "66                 0                89.34       10.40          0.30   \n",
       "67                 1                88.70        9.30          0.70   \n",
       "68                 0                95.30        4.20          0.50   \n",
       "\n",
       "    unhappy_perc  actively_unhappy_perc  break_chs_score  \n",
       "0           0.20                   0.00               91  \n",
       "1           0.20                   0.00               94  \n",
       "2           0.00                   0.00               94  \n",
       "3           0.00                   0.01               94  \n",
       "4           0.00                   0.00               95  \n",
       "..           ...                    ...              ...  \n",
       "64          0.01                   0.00               96  \n",
       "65          1.20                   0.60               96  \n",
       "66          0.00                   0.00               97  \n",
       "67          1.00                   0.20               96  \n",
       "68          0.00                   0.00               99  \n",
       "\n",
       "[69 rows x 18 columns]"
      ]
     },
     "execution_count": 2,
     "metadata": {},
     "output_type": "execute_result"
    }
   ],
   "source": [
    "df = pd.read_csv('https://docs.google.com/spreadsheets/d/e/2PACX-1vTU9LHclwOw2Vmiff8akR1-nRke1jL7iQMl7-huld_MzYsNl1NG-SiHR7IRagEKJgKDVy6NTEEOgxiM/pub?output=csv')\n",
    "df"
   ]
  },
  {
   "cell_type": "markdown",
   "metadata": {},
   "source": [
    "# Basic Analysis"
   ]
  },
  {
   "cell_type": "code",
   "execution_count": 3,
   "metadata": {},
   "outputs": [
    {
     "data": {
      "text/html": [
       "<div>\n",
       "<style scoped>\n",
       "    .dataframe tbody tr th:only-of-type {\n",
       "        vertical-align: middle;\n",
       "    }\n",
       "\n",
       "    .dataframe tbody tr th {\n",
       "        vertical-align: top;\n",
       "    }\n",
       "\n",
       "    .dataframe thead th {\n",
       "        text-align: right;\n",
       "    }\n",
       "</style>\n",
       "<table border=\"1\" class=\"dataframe\">\n",
       "  <thead>\n",
       "    <tr style=\"text-align: right;\">\n",
       "      <th></th>\n",
       "      <th>count</th>\n",
       "      <th>mean</th>\n",
       "      <th>std</th>\n",
       "      <th>min</th>\n",
       "      <th>25%</th>\n",
       "      <th>50%</th>\n",
       "      <th>75%</th>\n",
       "      <th>max</th>\n",
       "    </tr>\n",
       "  </thead>\n",
       "  <tbody>\n",
       "    <tr>\n",
       "      <th>nights</th>\n",
       "      <td>69.0</td>\n",
       "      <td>3.4348</td>\n",
       "      <td>0.6296</td>\n",
       "      <td>2.00</td>\n",
       "      <td>3.00</td>\n",
       "      <td>4.00</td>\n",
       "      <td>4.00</td>\n",
       "      <td>4.0</td>\n",
       "    </tr>\n",
       "    <tr>\n",
       "      <th>num_guests</th>\n",
       "      <td>69.0</td>\n",
       "      <td>562.2899</td>\n",
       "      <td>138.6352</td>\n",
       "      <td>223.00</td>\n",
       "      <td>489.00</td>\n",
       "      <td>601.00</td>\n",
       "      <td>651.00</td>\n",
       "      <td>819.0</td>\n",
       "    </tr>\n",
       "    <tr>\n",
       "      <th>num_returns</th>\n",
       "      <td>69.0</td>\n",
       "      <td>415.9420</td>\n",
       "      <td>105.0005</td>\n",
       "      <td>163.00</td>\n",
       "      <td>374.00</td>\n",
       "      <td>436.00</td>\n",
       "      <td>489.00</td>\n",
       "      <td>569.0</td>\n",
       "    </tr>\n",
       "    <tr>\n",
       "      <th>returns_percentage</th>\n",
       "      <td>69.0</td>\n",
       "      <td>0.7417</td>\n",
       "      <td>0.0845</td>\n",
       "      <td>0.50</td>\n",
       "      <td>0.69</td>\n",
       "      <td>0.75</td>\n",
       "      <td>0.79</td>\n",
       "      <td>1.0</td>\n",
       "    </tr>\n",
       "    <tr>\n",
       "      <th>chs_to_date</th>\n",
       "      <td>69.0</td>\n",
       "      <td>94.3478</td>\n",
       "      <td>1.0823</td>\n",
       "      <td>92.00</td>\n",
       "      <td>93.00</td>\n",
       "      <td>95.00</td>\n",
       "      <td>95.00</td>\n",
       "      <td>96.0</td>\n",
       "    </tr>\n",
       "    <tr>\n",
       "      <th>actively_happy</th>\n",
       "      <td>69.0</td>\n",
       "      <td>348.4638</td>\n",
       "      <td>94.1452</td>\n",
       "      <td>145.00</td>\n",
       "      <td>307.00</td>\n",
       "      <td>369.00</td>\n",
       "      <td>420.00</td>\n",
       "      <td>501.0</td>\n",
       "    </tr>\n",
       "    <tr>\n",
       "      <th>happy</th>\n",
       "      <td>69.0</td>\n",
       "      <td>52.9130</td>\n",
       "      <td>21.7200</td>\n",
       "      <td>12.00</td>\n",
       "      <td>39.00</td>\n",
       "      <td>54.00</td>\n",
       "      <td>66.00</td>\n",
       "      <td>116.0</td>\n",
       "    </tr>\n",
       "    <tr>\n",
       "      <th>neutral</th>\n",
       "      <td>69.0</td>\n",
       "      <td>7.6667</td>\n",
       "      <td>5.7616</td>\n",
       "      <td>0.00</td>\n",
       "      <td>4.00</td>\n",
       "      <td>6.00</td>\n",
       "      <td>11.00</td>\n",
       "      <td>22.0</td>\n",
       "    </tr>\n",
       "    <tr>\n",
       "      <th>unhappy</th>\n",
       "      <td>69.0</td>\n",
       "      <td>2.8986</td>\n",
       "      <td>8.9066</td>\n",
       "      <td>0.00</td>\n",
       "      <td>0.00</td>\n",
       "      <td>1.00</td>\n",
       "      <td>3.00</td>\n",
       "      <td>74.0</td>\n",
       "    </tr>\n",
       "    <tr>\n",
       "      <th>actively_unhappy</th>\n",
       "      <td>69.0</td>\n",
       "      <td>1.0580</td>\n",
       "      <td>1.3600</td>\n",
       "      <td>0.00</td>\n",
       "      <td>0.00</td>\n",
       "      <td>0.00</td>\n",
       "      <td>2.00</td>\n",
       "      <td>5.0</td>\n",
       "    </tr>\n",
       "    <tr>\n",
       "      <th>actively_happy_perc</th>\n",
       "      <td>69.0</td>\n",
       "      <td>4.7667</td>\n",
       "      <td>18.5546</td>\n",
       "      <td>0.71</td>\n",
       "      <td>0.81</td>\n",
       "      <td>0.85</td>\n",
       "      <td>0.89</td>\n",
       "      <td>95.3</td>\n",
       "    </tr>\n",
       "    <tr>\n",
       "      <th>happy_perc</th>\n",
       "      <td>69.0</td>\n",
       "      <td>0.6055</td>\n",
       "      <td>2.0033</td>\n",
       "      <td>0.04</td>\n",
       "      <td>0.11</td>\n",
       "      <td>0.13</td>\n",
       "      <td>0.17</td>\n",
       "      <td>10.4</td>\n",
       "    </tr>\n",
       "    <tr>\n",
       "      <th>neutral_perc</th>\n",
       "      <td>69.0</td>\n",
       "      <td>0.0577</td>\n",
       "      <td>0.1327</td>\n",
       "      <td>0.00</td>\n",
       "      <td>0.01</td>\n",
       "      <td>0.02</td>\n",
       "      <td>0.03</td>\n",
       "      <td>0.7</td>\n",
       "    </tr>\n",
       "    <tr>\n",
       "      <th>unhappy_perc</th>\n",
       "      <td>69.0</td>\n",
       "      <td>0.0436</td>\n",
       "      <td>0.1876</td>\n",
       "      <td>0.00</td>\n",
       "      <td>0.00</td>\n",
       "      <td>0.01</td>\n",
       "      <td>0.01</td>\n",
       "      <td>1.2</td>\n",
       "    </tr>\n",
       "    <tr>\n",
       "      <th>actively_unhappy_perc</th>\n",
       "      <td>69.0</td>\n",
       "      <td>0.0148</td>\n",
       "      <td>0.0755</td>\n",
       "      <td>0.00</td>\n",
       "      <td>0.00</td>\n",
       "      <td>0.00</td>\n",
       "      <td>0.01</td>\n",
       "      <td>0.6</td>\n",
       "    </tr>\n",
       "    <tr>\n",
       "      <th>break_chs_score</th>\n",
       "      <td>69.0</td>\n",
       "      <td>95.2319</td>\n",
       "      <td>1.9863</td>\n",
       "      <td>91.00</td>\n",
       "      <td>94.00</td>\n",
       "      <td>95.00</td>\n",
       "      <td>97.00</td>\n",
       "      <td>99.0</td>\n",
       "    </tr>\n",
       "  </tbody>\n",
       "</table>\n",
       "</div>"
      ],
      "text/plain": [
       "                       count      mean       std     min     25%     50%  \\\n",
       "nights                  69.0    3.4348    0.6296    2.00    3.00    4.00   \n",
       "num_guests              69.0  562.2899  138.6352  223.00  489.00  601.00   \n",
       "num_returns             69.0  415.9420  105.0005  163.00  374.00  436.00   \n",
       "returns_percentage      69.0    0.7417    0.0845    0.50    0.69    0.75   \n",
       "chs_to_date             69.0   94.3478    1.0823   92.00   93.00   95.00   \n",
       "actively_happy          69.0  348.4638   94.1452  145.00  307.00  369.00   \n",
       "happy                   69.0   52.9130   21.7200   12.00   39.00   54.00   \n",
       "neutral                 69.0    7.6667    5.7616    0.00    4.00    6.00   \n",
       "unhappy                 69.0    2.8986    8.9066    0.00    0.00    1.00   \n",
       "actively_unhappy        69.0    1.0580    1.3600    0.00    0.00    0.00   \n",
       "actively_happy_perc     69.0    4.7667   18.5546    0.71    0.81    0.85   \n",
       "happy_perc              69.0    0.6055    2.0033    0.04    0.11    0.13   \n",
       "neutral_perc            69.0    0.0577    0.1327    0.00    0.01    0.02   \n",
       "unhappy_perc            69.0    0.0436    0.1876    0.00    0.00    0.01   \n",
       "actively_unhappy_perc   69.0    0.0148    0.0755    0.00    0.00    0.00   \n",
       "break_chs_score         69.0   95.2319    1.9863   91.00   94.00   95.00   \n",
       "\n",
       "                          75%    max  \n",
       "nights                   4.00    4.0  \n",
       "num_guests             651.00  819.0  \n",
       "num_returns            489.00  569.0  \n",
       "returns_percentage       0.79    1.0  \n",
       "chs_to_date             95.00   96.0  \n",
       "actively_happy         420.00  501.0  \n",
       "happy                   66.00  116.0  \n",
       "neutral                 11.00   22.0  \n",
       "unhappy                  3.00   74.0  \n",
       "actively_unhappy         2.00    5.0  \n",
       "actively_happy_perc      0.89   95.3  \n",
       "happy_perc               0.17   10.4  \n",
       "neutral_perc             0.03    0.7  \n",
       "unhappy_perc             0.01    1.2  \n",
       "actively_unhappy_perc    0.01    0.6  \n",
       "break_chs_score         97.00   99.0  "
      ]
     },
     "execution_count": 3,
     "metadata": {},
     "output_type": "execute_result"
    }
   ],
   "source": [
    "round(df.describe().T, 4)"
   ]
  },
  {
   "cell_type": "markdown",
   "metadata": {},
   "source": [
    "## Splitting features and target"
   ]
  },
  {
   "cell_type": "code",
   "execution_count": 4,
   "metadata": {},
   "outputs": [],
   "source": [
    "X = df.iloc[:,2:-1]\n",
    "y = df.iloc[:,-1]"
   ]
  },
  {
   "cell_type": "code",
   "execution_count": 5,
   "metadata": {},
   "outputs": [
    {
     "data": {
      "text/html": [
       "<div>\n",
       "<style scoped>\n",
       "    .dataframe tbody tr th:only-of-type {\n",
       "        vertical-align: middle;\n",
       "    }\n",
       "\n",
       "    .dataframe tbody tr th {\n",
       "        vertical-align: top;\n",
       "    }\n",
       "\n",
       "    .dataframe thead th {\n",
       "        text-align: right;\n",
       "    }\n",
       "</style>\n",
       "<table border=\"1\" class=\"dataframe\">\n",
       "  <thead>\n",
       "    <tr style=\"text-align: right;\">\n",
       "      <th></th>\n",
       "      <th>nights</th>\n",
       "      <th>num_guests</th>\n",
       "      <th>num_returns</th>\n",
       "      <th>returns_percentage</th>\n",
       "      <th>chs_to_date</th>\n",
       "      <th>actively_happy</th>\n",
       "      <th>happy</th>\n",
       "      <th>neutral</th>\n",
       "      <th>unhappy</th>\n",
       "      <th>actively_unhappy</th>\n",
       "      <th>actively_happy_perc</th>\n",
       "      <th>happy_perc</th>\n",
       "      <th>neutral_perc</th>\n",
       "      <th>unhappy_perc</th>\n",
       "      <th>actively_unhappy_perc</th>\n",
       "    </tr>\n",
       "  </thead>\n",
       "  <tbody>\n",
       "    <tr>\n",
       "      <th>0</th>\n",
       "      <td>3</td>\n",
       "      <td>297</td>\n",
       "      <td>202</td>\n",
       "      <td>0.68</td>\n",
       "      <td>92</td>\n",
       "      <td>152</td>\n",
       "      <td>33</td>\n",
       "      <td>13</td>\n",
       "      <td>4</td>\n",
       "      <td>0</td>\n",
       "      <td>0.75</td>\n",
       "      <td>0.16</td>\n",
       "      <td>0.60</td>\n",
       "      <td>0.20</td>\n",
       "      <td>0.00</td>\n",
       "    </tr>\n",
       "    <tr>\n",
       "      <th>1</th>\n",
       "      <td>4</td>\n",
       "      <td>286</td>\n",
       "      <td>223</td>\n",
       "      <td>0.78</td>\n",
       "      <td>93</td>\n",
       "      <td>187</td>\n",
       "      <td>23</td>\n",
       "      <td>10</td>\n",
       "      <td>3</td>\n",
       "      <td>0</td>\n",
       "      <td>0.84</td>\n",
       "      <td>0.10</td>\n",
       "      <td>0.40</td>\n",
       "      <td>0.20</td>\n",
       "      <td>0.00</td>\n",
       "    </tr>\n",
       "    <tr>\n",
       "      <th>2</th>\n",
       "      <td>3</td>\n",
       "      <td>329</td>\n",
       "      <td>239</td>\n",
       "      <td>0.73</td>\n",
       "      <td>93</td>\n",
       "      <td>190</td>\n",
       "      <td>45</td>\n",
       "      <td>4</td>\n",
       "      <td>0</td>\n",
       "      <td>0</td>\n",
       "      <td>0.79</td>\n",
       "      <td>0.19</td>\n",
       "      <td>0.20</td>\n",
       "      <td>0.00</td>\n",
       "      <td>0.00</td>\n",
       "    </tr>\n",
       "    <tr>\n",
       "      <th>3</th>\n",
       "      <td>4</td>\n",
       "      <td>237</td>\n",
       "      <td>200</td>\n",
       "      <td>0.84</td>\n",
       "      <td>94</td>\n",
       "      <td>178</td>\n",
       "      <td>17</td>\n",
       "      <td>3</td>\n",
       "      <td>0</td>\n",
       "      <td>2</td>\n",
       "      <td>0.89</td>\n",
       "      <td>0.19</td>\n",
       "      <td>0.02</td>\n",
       "      <td>0.00</td>\n",
       "      <td>0.01</td>\n",
       "    </tr>\n",
       "    <tr>\n",
       "      <th>4</th>\n",
       "      <td>4</td>\n",
       "      <td>459</td>\n",
       "      <td>342</td>\n",
       "      <td>0.75</td>\n",
       "      <td>94</td>\n",
       "      <td>288</td>\n",
       "      <td>43</td>\n",
       "      <td>10</td>\n",
       "      <td>1</td>\n",
       "      <td>0</td>\n",
       "      <td>0.84</td>\n",
       "      <td>0.13</td>\n",
       "      <td>0.03</td>\n",
       "      <td>0.00</td>\n",
       "      <td>0.00</td>\n",
       "    </tr>\n",
       "    <tr>\n",
       "      <th>...</th>\n",
       "      <td>...</td>\n",
       "      <td>...</td>\n",
       "      <td>...</td>\n",
       "      <td>...</td>\n",
       "      <td>...</td>\n",
       "      <td>...</td>\n",
       "      <td>...</td>\n",
       "      <td>...</td>\n",
       "      <td>...</td>\n",
       "      <td>...</td>\n",
       "      <td>...</td>\n",
       "      <td>...</td>\n",
       "      <td>...</td>\n",
       "      <td>...</td>\n",
       "      <td>...</td>\n",
       "    </tr>\n",
       "    <tr>\n",
       "      <th>64</th>\n",
       "      <td>2</td>\n",
       "      <td>432</td>\n",
       "      <td>274</td>\n",
       "      <td>0.63</td>\n",
       "      <td>96</td>\n",
       "      <td>241</td>\n",
       "      <td>26</td>\n",
       "      <td>4</td>\n",
       "      <td>3</td>\n",
       "      <td>0</td>\n",
       "      <td>0.88</td>\n",
       "      <td>0.10</td>\n",
       "      <td>0.02</td>\n",
       "      <td>0.01</td>\n",
       "      <td>0.00</td>\n",
       "    </tr>\n",
       "    <tr>\n",
       "      <th>65</th>\n",
       "      <td>2</td>\n",
       "      <td>223</td>\n",
       "      <td>163</td>\n",
       "      <td>0.73</td>\n",
       "      <td>96</td>\n",
       "      <td>145</td>\n",
       "      <td>15</td>\n",
       "      <td>0</td>\n",
       "      <td>2</td>\n",
       "      <td>1</td>\n",
       "      <td>0.89</td>\n",
       "      <td>9.20</td>\n",
       "      <td>0.00</td>\n",
       "      <td>1.20</td>\n",
       "      <td>0.60</td>\n",
       "    </tr>\n",
       "    <tr>\n",
       "      <th>66</th>\n",
       "      <td>4</td>\n",
       "      <td>387</td>\n",
       "      <td>289</td>\n",
       "      <td>0.75</td>\n",
       "      <td>96</td>\n",
       "      <td>258</td>\n",
       "      <td>30</td>\n",
       "      <td>1</td>\n",
       "      <td>0</td>\n",
       "      <td>0</td>\n",
       "      <td>89.34</td>\n",
       "      <td>10.40</td>\n",
       "      <td>0.30</td>\n",
       "      <td>0.00</td>\n",
       "      <td>0.00</td>\n",
       "    </tr>\n",
       "    <tr>\n",
       "      <th>67</th>\n",
       "      <td>3</td>\n",
       "      <td>599</td>\n",
       "      <td>411</td>\n",
       "      <td>0.69</td>\n",
       "      <td>96</td>\n",
       "      <td>362</td>\n",
       "      <td>38</td>\n",
       "      <td>3</td>\n",
       "      <td>4</td>\n",
       "      <td>1</td>\n",
       "      <td>88.70</td>\n",
       "      <td>9.30</td>\n",
       "      <td>0.70</td>\n",
       "      <td>1.00</td>\n",
       "      <td>0.20</td>\n",
       "    </tr>\n",
       "    <tr>\n",
       "      <th>68</th>\n",
       "      <td>4</td>\n",
       "      <td>574</td>\n",
       "      <td>430</td>\n",
       "      <td>0.74</td>\n",
       "      <td>96</td>\n",
       "      <td>410</td>\n",
       "      <td>18</td>\n",
       "      <td>2</td>\n",
       "      <td>0</td>\n",
       "      <td>0</td>\n",
       "      <td>95.30</td>\n",
       "      <td>4.20</td>\n",
       "      <td>0.50</td>\n",
       "      <td>0.00</td>\n",
       "      <td>0.00</td>\n",
       "    </tr>\n",
       "  </tbody>\n",
       "</table>\n",
       "<p>69 rows × 15 columns</p>\n",
       "</div>"
      ],
      "text/plain": [
       "    nights  num_guests  num_returns  returns_percentage  chs_to_date  \\\n",
       "0        3         297          202                0.68           92   \n",
       "1        4         286          223                0.78           93   \n",
       "2        3         329          239                0.73           93   \n",
       "3        4         237          200                0.84           94   \n",
       "4        4         459          342                0.75           94   \n",
       "..     ...         ...          ...                 ...          ...   \n",
       "64       2         432          274                0.63           96   \n",
       "65       2         223          163                0.73           96   \n",
       "66       4         387          289                0.75           96   \n",
       "67       3         599          411                0.69           96   \n",
       "68       4         574          430                0.74           96   \n",
       "\n",
       "    actively_happy  happy  neutral  unhappy  actively_unhappy  \\\n",
       "0              152     33       13        4                 0   \n",
       "1              187     23       10        3                 0   \n",
       "2              190     45        4        0                 0   \n",
       "3              178     17        3        0                 2   \n",
       "4              288     43       10        1                 0   \n",
       "..             ...    ...      ...      ...               ...   \n",
       "64             241     26        4        3                 0   \n",
       "65             145     15        0        2                 1   \n",
       "66             258     30        1        0                 0   \n",
       "67             362     38        3        4                 1   \n",
       "68             410     18        2        0                 0   \n",
       "\n",
       "    actively_happy_perc  happy_perc  neutral_perc  unhappy_perc  \\\n",
       "0                  0.75        0.16          0.60          0.20   \n",
       "1                  0.84        0.10          0.40          0.20   \n",
       "2                  0.79        0.19          0.20          0.00   \n",
       "3                  0.89        0.19          0.02          0.00   \n",
       "4                  0.84        0.13          0.03          0.00   \n",
       "..                  ...         ...           ...           ...   \n",
       "64                 0.88        0.10          0.02          0.01   \n",
       "65                 0.89        9.20          0.00          1.20   \n",
       "66                89.34       10.40          0.30          0.00   \n",
       "67                88.70        9.30          0.70          1.00   \n",
       "68                95.30        4.20          0.50          0.00   \n",
       "\n",
       "    actively_unhappy_perc  \n",
       "0                    0.00  \n",
       "1                    0.00  \n",
       "2                    0.00  \n",
       "3                    0.01  \n",
       "4                    0.00  \n",
       "..                    ...  \n",
       "64                   0.00  \n",
       "65                   0.60  \n",
       "66                   0.00  \n",
       "67                   0.20  \n",
       "68                   0.00  \n",
       "\n",
       "[69 rows x 15 columns]"
      ]
     },
     "execution_count": 5,
     "metadata": {},
     "output_type": "execute_result"
    }
   ],
   "source": [
    "X"
   ]
  },
  {
   "cell_type": "markdown",
   "metadata": {},
   "source": [
    "## Chi Feature Selection"
   ]
  },
  {
   "cell_type": "code",
   "execution_count": 6,
   "metadata": {},
   "outputs": [
    {
     "name": "stdout",
     "output_type": "stream",
     "text": [
      "                  Feature  Chi² Score\n",
      "8                 unhappy  718.160000\n",
      "10    actively_happy_perc  650.978279\n",
      "1              num_guests  489.767808\n",
      "5          actively_happy  460.794658\n",
      "6                   happy  326.484936\n",
      "2             num_returns  300.685375\n",
      "7                 neutral  185.554348\n",
      "11             happy_perc   32.365859\n",
      "9        actively_unhappy   30.011644\n",
      "13           unhappy_perc    5.474211\n",
      "12           neutral_perc    2.418565\n",
      "0                  nights    2.253376\n",
      "14  actively_unhappy_perc    2.222324\n",
      "4             chs_to_date    0.356152\n",
      "3      returns_percentage    0.114024\n"
     ]
    }
   ],
   "source": [
    "from sklearn.feature_selection import SelectKBest\n",
    "from sklearn.feature_selection import chi2\n",
    "\n",
    "bestfeatures = SelectKBest(score_func=chi2, k=15)\n",
    "fit = bestfeatures.fit(X,y)\n",
    "\n",
    "dfscores = pd.DataFrame(fit.scores_)\n",
    "dfcolumns = pd.DataFrame(X.columns)\n",
    "\n",
    "#concat two dataframes for better visualization \n",
    "featureScores = pd.concat([dfcolumns,dfscores],axis=1)\n",
    "featureScores.columns = ['Feature',f'Chi\\N{SUPERSCRIPT TWO} Score']  #naming the dataframe columns\n",
    "print(featureScores.nlargest(15,f'Chi\\N{SUPERSCRIPT TWO} Score'))  #print 10 best features"
   ]
  },
  {
   "cell_type": "markdown",
   "metadata": {},
   "source": [
    "## Feature Importance Selection"
   ]
  },
  {
   "cell_type": "code",
   "execution_count": 7,
   "metadata": {},
   "outputs": [
    {
     "name": "stdout",
     "output_type": "stream",
     "text": [
      "[0.04350794 0.0647302  0.06593519 0.06564952 0.05345873 0.08155908\n",
      " 0.09300093 0.09216205 0.06281844 0.03870733 0.12086764 0.09046205\n",
      " 0.05966835 0.04360958 0.02386297]\n"
     ]
    },
    {
     "data": {
      "image/png": "[encoded data removed]",
      "text/plain": [
       "<Figure size 432x288 with 1 Axes>"
      ]
     },
     "metadata": {
      "needs_background": "light"
     },
     "output_type": "display_data"
    }
   ],
   "source": [
    "from sklearn.ensemble import ExtraTreesClassifier\n",
    "\n",
    "model = ExtraTreesClassifier()\n",
    "model.fit(X,y)\n",
    "\n",
    "print(model.feature_importances_) #use inbuilt class feature_importances of tree based classifiers\n",
    "#plot graph of feature importances for better visualization\n",
    "feat_importances = pd.Series(model.feature_importances_, index=X.columns)\n",
    "feat_importances.nlargest(10).plot(kind='bar')\n",
    "plt.show()"
   ]
  },
  {
   "cell_type": "markdown",
   "metadata": {},
   "source": [
    "## Correlation Matrix with Heatmap"
   ]
  },
  {
   "cell_type": "code",
   "execution_count": 8,
   "metadata": {},
   "outputs": [
    {
     "data": {
      "image/png": "[encoded data removed]",
      "text/plain": [
       "<Figure size 1440x1440 with 2 Axes>"
      ]
     },
     "metadata": {
      "needs_background": "light"
     },
     "output_type": "display_data"
    }
   ],
   "source": [
    "import seaborn as sns\n",
    "\n",
    "#get correlations of each features in dataset\n",
    "corrmat = df.corr()\n",
    "top_corr_features = corrmat.index\n",
    "plt.figure(figsize=(20,20))\n",
    "#plot heat map\n",
    "g=sns.heatmap(df[top_corr_features].corr(),annot=True,cmap=\"RdYlGn\")"
   ]
  },
  {
   "cell_type": "markdown",
   "metadata": {},
   "source": [
    "# KMeans"
   ]
  },
  {
   "cell_type": "code",
   "execution_count": 9,
   "metadata": {},
   "outputs": [],
   "source": [
    "distortions = []\n",
    "K = range(1,10)\n",
    "for k in K:\n",
    "    kmeanModel = KMeans(n_clusters=k)\n",
    "    kmeanModel.fit(df.iloc[:,2:-1])\n",
    "    distortions.append(kmeanModel.inertia_)"
   ]
  },
  {
   "cell_type": "code",
   "execution_count": 11,
   "metadata": {},
   "outputs": [
    {
     "data": {
      "image/png": "[encoded data removed]",
      "text/plain": [
       "<Figure size 2400x800 with 1 Axes>"
      ]
     },
     "metadata": {
      "needs_background": "light"
     },
     "output_type": "display_data"
    }
   ],
   "source": [
    "plt.figure(figsize=(24,8), dpi = 100)\n",
    "plt.plot(K, distortions, 'bx-')\n",
    "plt.xlabel('k')\n",
    "plt.ylabel('Distortion')\n",
    "plt.title('The Elbow Method showing the optimal k')\n",
    "plt.show()"
   ]
  },
  {
   "cell_type": "code",
   "execution_count": 12,
   "metadata": {},
   "outputs": [
    {
     "data": {
      "application/vnd.plotly.v1+json": {
       "config": {
        "plotlyServerURL": "https://plot.ly"
       },
       "data": [
        {
         "customdata": [
          [
           3,
           0.75
          ],
          [
           3,
           0.79
          ],
          [
           3,
           0.76
          ],
          [
           3,
           0.77
          ],
          [
           3,
           0.78
          ],
          [
           3,
           0.85
          ],
          [
           3,
           0.82
          ],
          [
           3,
           0.85
          ],
          [
           3,
           0.76
          ],
          [
           3,
           0.78
          ],
          [
           3,
           0.79
          ],
          [
           3,
           0.84
          ],
          [
           3,
           0.86
          ],
          [
           3,
           0.94
          ],
          [
           3,
           0.89
          ],
          [
           3,
           0.95
          ],
          [
           3,
           0.87
          ],
          [
           3,
           0.87
          ],
          [
           3,
           0.88
          ],
          [
           3,
           0.91
          ],
          [
           3,
           0.87
          ],
          [
           3,
           0.85
          ],
          [
           3,
           0.88
          ],
          [
           3,
           0.89
          ],
          [
           3,
           0.94
          ],
          [
           3,
           0.92
          ],
          [
           3,
           0.82
          ],
          [
           3,
           0.83
          ],
          [
           3,
           88.7
          ]
         ],
         "hovertemplate": "nights=%{customdata[0]}<br>num_returns=%{x}<br>num_guests=%{marker.color}<br>actively_happy_perc=%{customdata[1]}<extra></extra>",
         "legendgroup": "3",
         "marker": {
          "color": [
           297,
           329,
           489,
           612,
           498,
           487,
           491,
           596,
           569,
           601,
           596,
           615,
           620,
           688,
           641,
           688,
           640,
           819,
           691,
           782,
           672,
           676,
           671,
           683,
           655,
           600,
           618,
           657,
           599
          ],
          "coloraxis": "coloraxis",
          "size": [
           297,
           329,
           489,
           612,
           498,
           487,
           491,
           596,
           569,
           601,
           596,
           615,
           620,
           688,
           641,
           688,
           640,
           819,
           691,
           782,
           672,
           676,
           671,
           683,
           655,
           600,
           618,
           657,
           599
          ],
          "sizemode": "area",
          "sizeref": 2.0475,
          "symbol": "circle"
         },
         "mode": "markers",
         "name": "3",
         "orientation": "v",
         "showlegend": true,
         "type": "scatter",
         "x": [
          202,
          239,
          242,
          431,
          372,
          363,
          389,
          464,
          417,
          412,
          436,
          383,
          464,
          429,
          374,
          453,
          484,
          489,
          464,
          475,
          478,
          473,
          496,
          503,
          438,
          402,
          454,
          422,
          411
         ],
         "xaxis": "x",
         "y": [
          297,
          329,
          489,
          612,
          498,
          487,
          491,
          596,
          569,
          601,
          596,
          615,
          620,
          688,
          641,
          688,
          640,
          819,
          691,
          782,
          672,
          676,
          671,
          683,
          655,
          600,
          618,
          657,
          599
         ],
         "yaxis": "y"
        },
        {
         "customdata": [
          [
           4,
           0.84
          ],
          [
           4,
           0.89
          ],
          [
           4,
           0.84
          ],
          [
           4,
           0.83
          ],
          [
           4,
           0.73
          ],
          [
           4,
           0.74
          ],
          [
           4,
           0.71
          ],
          [
           4,
           0.84
          ],
          [
           4,
           0.82
          ],
          [
           4,
           0.83
          ],
          [
           4,
           0.79
          ],
          [
           4,
           0.72
          ],
          [
           4,
           0.75
          ],
          [
           4,
           0.89
          ],
          [
           4,
           0.9
          ],
          [
           4,
           0.8
          ],
          [
           4,
           0.84
          ],
          [
           4,
           0.9
          ],
          [
           4,
           0.87
          ],
          [
           4,
           0.85
          ],
          [
           4,
           0.8
          ],
          [
           4,
           0.84
          ],
          [
           4,
           0.88
          ],
          [
           4,
           0.85
          ],
          [
           4,
           0.91
          ],
          [
           4,
           0.81
          ],
          [
           4,
           0.83
          ],
          [
           4,
           0.86
          ],
          [
           4,
           0.84
          ],
          [
           4,
           0.84
          ],
          [
           4,
           0.87
          ],
          [
           4,
           0.84
          ],
          [
           4,
           0.81
          ],
          [
           4,
           89.34
          ],
          [
           4,
           95.3
          ]
         ],
         "hovertemplate": "nights=%{customdata[0]}<br>num_returns=%{x}<br>num_guests=%{marker.color}<br>actively_happy_perc=%{customdata[1]}<extra></extra>",
         "legendgroup": "4",
         "marker": {
          "color": [
           286,
           237,
           459,
           460,
           488,
           512,
           586,
           479,
           489,
           563,
           571,
           566,
           550,
           700,
           703,
           601,
           639,
           621,
           643,
           633,
           640,
           656,
           784,
           652,
           646,
           638,
           636,
           651,
           628,
           626,
           662,
           491,
           308,
           387,
           574
          ],
          "coloraxis": "coloraxis",
          "size": [
           286,
           237,
           459,
           460,
           488,
           512,
           586,
           479,
           489,
           563,
           571,
           566,
           550,
           700,
           703,
           601,
           639,
           621,
           643,
           633,
           640,
           656,
           784,
           652,
           646,
           638,
           636,
           651,
           628,
           626,
           662,
           491,
           308,
           387,
           574
          ],
          "sizemode": "area",
          "sizeref": 2.0475,
          "symbol": "diamond"
         },
         "mode": "markers",
         "name": "4",
         "orientation": "v",
         "showlegend": true,
         "type": "scatter",
         "x": [
          223,
          200,
          342,
          301,
          407,
          512,
          463,
          415,
          424,
          432,
          569,
          443,
          420,
          528,
          534,
          480,
          521,
          487,
          516,
          489,
          525,
          504,
          568,
          556,
          550,
          510,
          498,
          506,
          482,
          475,
          391,
          368,
          239,
          289,
          430
         ],
         "xaxis": "x",
         "y": [
          286,
          237,
          459,
          460,
          488,
          512,
          586,
          479,
          489,
          563,
          571,
          566,
          550,
          700,
          703,
          601,
          639,
          621,
          643,
          633,
          640,
          656,
          784,
          652,
          646,
          638,
          636,
          651,
          628,
          626,
          662,
          491,
          308,
          387,
          574
         ],
         "yaxis": "y"
        },
        {
         "customdata": [
          [
           2,
           0.88
          ],
          [
           2,
           0.92
          ],
          [
           2,
           0.92
          ],
          [
           2,
           0.88
          ],
          [
           2,
           0.89
          ]
         ],
         "hovertemplate": "nights=%{customdata[0]}<br>num_returns=%{x}<br>num_guests=%{marker.color}<br>actively_happy_perc=%{customdata[1]}<extra></extra>",
         "legendgroup": "2",
         "marker": {
          "color": [
           265,
           299,
           234,
           432,
           223
          ],
          "coloraxis": "coloraxis",
          "size": [
           265,
           299,
           234,
           432,
           223
          ],
          "sizemode": "area",
          "sizeref": 2.0475,
          "symbol": "square"
         },
         "mode": "markers",
         "name": "2",
         "orientation": "v",
         "showlegend": true,
         "type": "scatter",
         "x": [
          177,
          255,
          175,
          274,
          163
         ],
         "xaxis": "x",
         "y": [
          265,
          299,
          234,
          432,
          223
         ],
         "yaxis": "y"
        }
       ],
       "layout": {
        "coloraxis": {
         "colorbar": {
          "title": {
           "text": "num_guests"
          }
         },
         "colorscale": [
          [
           0,
           "#0d0887"
          ],
          [
           0.1111111111111111,
           "#46039f"
          ],
          [
           0.2222222222222222,
           "#7201a8"
          ],
          [
           0.3333333333333333,
           "#9c179e"
          ],
          [
           0.4444444444444444,
           "#bd3786"
          ],
          [
           0.5555555555555556,
           "#d8576b"
          ],
          [
           0.6666666666666666,
           "#ed7953"
          ],
          [
           0.7777777777777778,
           "#fb9f3a"
          ],
          [
           0.8888888888888888,
           "#fdca26"
          ],
          [
           1,
           "#f0f921"
          ]
         ]
        },
        "height": 800,
        "legend": {
         "bordercolor": "Black",
         "borderwidth": 1,
         "font": {
          "size": 20
         },
         "itemsizing": "constant",
         "title": {
          "text": "nights"
         },
         "tracegroupgap": 0,
         "x": 0.005,
         "xanchor": "left",
         "y": 0.99,
         "yanchor": "top"
        },
        "margin": {
         "t": 60
        },
        "template": {
         "data": {
          "bar": [
           {
            "error_x": {
             "color": "#2a3f5f"
            },
            "error_y": {
             "color": "#2a3f5f"
            },
            "marker": {
             "line": {
              "color": "#E5ECF6",
              "width": 0.5
             },
             "pattern": {
              "fillmode": "overlay",
              "size": 10,
              "solidity": 0.2
             }
            },
            "type": "bar"
           }
          ],
          "barpolar": [
           {
            "marker": {
             "line": {
              "color": "#E5ECF6",
              "width": 0.5
             },
             "pattern": {
              "fillmode": "overlay",
              "size": 10,
              "solidity": 0.2
             }
            },
            "type": "barpolar"
           }
          ],
          "carpet": [
           {
            "aaxis": {
             "endlinecolor": "#2a3f5f",
             "gridcolor": "white",
             "linecolor": "white",
             "minorgridcolor": "white",
             "startlinecolor": "#2a3f5f"
            },
            "baxis": {
             "endlinecolor": "#2a3f5f",
             "gridcolor": "white",
             "linecolor": "white",
             "minorgridcolor": "white",
             "startlinecolor": "#2a3f5f"
            },
            "type": "carpet"
           }
          ],
          "choropleth": [
           {
            "colorbar": {
             "outlinewidth": 0,
             "ticks": ""
            },
            "type": "choropleth"
           }
          ],
          "contour": [
           {
            "colorbar": {
             "outlinewidth": 0,
             "ticks": ""
            },
            "colorscale": [
             [
              0,
              "#0d0887"
             ],
             [
              0.1111111111111111,
              "#46039f"
             ],
             [
              0.2222222222222222,
              "#7201a8"
             ],
             [
              0.3333333333333333,
              "#9c179e"
             ],
             [
              0.4444444444444444,
              "#bd3786"
             ],
             [
              0.5555555555555556,
              "#d8576b"
             ],
             [
              0.6666666666666666,
              "#ed7953"
             ],
             [
              0.7777777777777778,
              "#fb9f3a"
             ],
             [
              0.8888888888888888,
              "#fdca26"
             ],
             [
              1,
              "#f0f921"
             ]
            ],
            "type": "contour"
           }
          ],
          "contourcarpet": [
           {
            "colorbar": {
             "outlinewidth": 0,
             "ticks": ""
            },
            "type": "contourcarpet"
           }
          ],
          "heatmap": [
           {
            "colorbar": {
             "outlinewidth": 0,
             "ticks": ""
            },
            "colorscale": [
             [
              0,
              "#0d0887"
             ],
             [
              0.1111111111111111,
              "#46039f"
             ],
             [
              0.2222222222222222,
              "#7201a8"
             ],
             [
              0.3333333333333333,
              "#9c179e"
             ],
             [
              0.4444444444444444,
              "#bd3786"
             ],
             [
              0.5555555555555556,
              "#d8576b"
             ],
             [
              0.6666666666666666,
              "#ed7953"
             ],
             [
              0.7777777777777778,
              "#fb9f3a"
             ],
             [
              0.8888888888888888,
              "#fdca26"
             ],
             [
              1,
              "#f0f921"
             ]
            ],
            "type": "heatmap"
           }
          ],
          "heatmapgl": [
           {
            "colorbar": {
             "outlinewidth": 0,
             "ticks": ""
            },
            "colorscale": [
             [
              0,
              "#0d0887"
             ],
             [
              0.1111111111111111,
              "#46039f"
             ],
             [
              0.2222222222222222,
              "#7201a8"
             ],
             [
              0.3333333333333333,
              "#9c179e"
             ],
             [
              0.4444444444444444,
              "#bd3786"
             ],
             [
              0.5555555555555556,
              "#d8576b"
             ],
             [
              0.6666666666666666,
              "#ed7953"
             ],
             [
              0.7777777777777778,
              "#fb9f3a"
             ],
             [
              0.8888888888888888,
              "#fdca26"
             ],
             [
              1,
              "#f0f921"
             ]
            ],
            "type": "heatmapgl"
           }
          ],
          "histogram": [
           {
            "marker": {
             "pattern": {
              "fillmode": "overlay",
              "size": 10,
              "solidity": 0.2
             }
            },
            "type": "histogram"
           }
          ],
          "histogram2d": [
           {
            "colorbar": {
             "outlinewidth": 0,
             "ticks": ""
            },
            "colorscale": [
             [
              0,
              "#0d0887"
             ],
             [
              0.1111111111111111,
              "#46039f"
             ],
             [
              0.2222222222222222,
              "#7201a8"
             ],
             [
              0.3333333333333333,
              "#9c179e"
             ],
             [
              0.4444444444444444,
              "#bd3786"
             ],
             [
              0.5555555555555556,
              "#d8576b"
             ],
             [
              0.6666666666666666,
              "#ed7953"
             ],
             [
              0.7777777777777778,
              "#fb9f3a"
             ],
             [
              0.8888888888888888,
              "#fdca26"
             ],
             [
              1,
              "#f0f921"
             ]
            ],
            "type": "histogram2d"
           }
          ],
          "histogram2dcontour": [
           {
            "colorbar": {
             "outlinewidth": 0,
             "ticks": ""
            },
            "colorscale": [
             [
              0,
              "#0d0887"
             ],
             [
              0.1111111111111111,
              "#46039f"
             ],
             [
              0.2222222222222222,
              "#7201a8"
             ],
             [
              0.3333333333333333,
              "#9c179e"
             ],
             [
              0.4444444444444444,
              "#bd3786"
             ],
             [
              0.5555555555555556,
              "#d8576b"
             ],
             [
              0.6666666666666666,
              "#ed7953"
             ],
             [
              0.7777777777777778,
              "#fb9f3a"
             ],
             [
              0.8888888888888888,
              "#fdca26"
             ],
             [
              1,
              "#f0f921"
             ]
            ],
            "type": "histogram2dcontour"
           }
          ],
          "mesh3d": [
           {
            "colorbar": {
             "outlinewidth": 0,
             "ticks": ""
            },
            "type": "mesh3d"
           }
          ],
          "parcoords": [
           {
            "line": {
             "colorbar": {
              "outlinewidth": 0,
              "ticks": ""
             }
            },
            "type": "parcoords"
           }
          ],
          "pie": [
           {
            "automargin": true,
            "type": "pie"
           }
          ],
          "scatter": [
           {
            "marker": {
             "colorbar": {
              "outlinewidth": 0,
              "ticks": ""
             }
            },
            "type": "scatter"
           }
          ],
          "scatter3d": [
           {
            "line": {
             "colorbar": {
              "outlinewidth": 0,
              "ticks": ""
             }
            },
            "marker": {
             "colorbar": {
              "outlinewidth": 0,
              "ticks": ""
             }
            },
            "type": "scatter3d"
           }
          ],
          "scattercarpet": [
           {
            "marker": {
             "colorbar": {
              "outlinewidth": 0,
              "ticks": ""
             }
            },
            "type": "scattercarpet"
           }
          ],
          "scattergeo": [
           {
            "marker": {
             "colorbar": {
              "outlinewidth": 0,
              "ticks": ""
             }
            },
            "type": "scattergeo"
           }
          ],
          "scattergl": [
           {
            "marker": {
             "colorbar": {
              "outlinewidth": 0,
              "ticks": ""
             }
            },
            "type": "scattergl"
           }
          ],
          "scattermapbox": [
           {
            "marker": {
             "colorbar": {
              "outlinewidth": 0,
              "ticks": ""
             }
            },
            "type": "scattermapbox"
           }
          ],
          "scatterpolar": [
           {
            "marker": {
             "colorbar": {
              "outlinewidth": 0,
              "ticks": ""
             }
            },
            "type": "scatterpolar"
           }
          ],
          "scatterpolargl": [
           {
            "marker": {
             "colorbar": {
              "outlinewidth": 0,
              "ticks": ""
             }
            },
            "type": "scatterpolargl"
           }
          ],
          "scatterternary": [
           {
            "marker": {
             "colorbar": {
              "outlinewidth": 0,
              "ticks": ""
             }
            },
            "type": "scatterternary"
           }
          ],
          "surface": [
           {
            "colorbar": {
             "outlinewidth": 0,
             "ticks": ""
            },
            "colorscale": [
             [
              0,
              "#0d0887"
             ],
             [
              0.1111111111111111,
              "#46039f"
             ],
             [
              0.2222222222222222,
              "#7201a8"
             ],
             [
              0.3333333333333333,
              "#9c179e"
             ],
             [
              0.4444444444444444,
              "#bd3786"
             ],
             [
              0.5555555555555556,
              "#d8576b"
             ],
             [
              0.6666666666666666,
              "#ed7953"
             ],
             [
              0.7777777777777778,
              "#fb9f3a"
             ],
             [
              0.8888888888888888,
              "#fdca26"
             ],
             [
              1,
              "#f0f921"
             ]
            ],
            "type": "surface"
           }
          ],
          "table": [
           {
            "cells": {
             "fill": {
              "color": "#EBF0F8"
             },
             "line": {
              "color": "white"
             }
            },
            "header": {
             "fill": {
              "color": "#C8D4E3"
             },
             "line": {
              "color": "white"
             }
            },
            "type": "table"
           }
          ]
         },
         "layout": {
          "annotationdefaults": {
           "arrowcolor": "#2a3f5f",
           "arrowhead": 0,
           "arrowwidth": 1
          },
          "autotypenumbers": "strict",
          "coloraxis": {
           "colorbar": {
            "outlinewidth": 0,
            "ticks": ""
           }
          },
          "colorscale": {
           "diverging": [
            [
             0,
             "#8e0152"
            ],
            [
             0.1,
             "#c51b7d"
            ],
            [
             0.2,
             "#de77ae"
            ],
            [
             0.3,
             "#f1b6da"
            ],
            [
             0.4,
             "#fde0ef"
            ],
            [
             0.5,
             "#f7f7f7"
            ],
            [
             0.6,
             "#e6f5d0"
            ],
            [
             0.7,
             "#b8e186"
            ],
            [
             0.8,
             "#7fbc41"
            ],
            [
             0.9,
             "#4d9221"
            ],
            [
             1,
             "#276419"
            ]
           ],
           "sequential": [
            [
             0,
             "#0d0887"
            ],
            [
             0.1111111111111111,
             "#46039f"
            ],
            [
             0.2222222222222222,
             "#7201a8"
            ],
            [
             0.3333333333333333,
             "#9c179e"
            ],
            [
             0.4444444444444444,
             "#bd3786"
            ],
            [
             0.5555555555555556,
             "#d8576b"
            ],
            [
             0.6666666666666666,
             "#ed7953"
            ],
            [
             0.7777777777777778,
             "#fb9f3a"
            ],
            [
             0.8888888888888888,
             "#fdca26"
            ],
            [
             1,
             "#f0f921"
            ]
           ],
           "sequentialminus": [
            [
             0,
             "#0d0887"
            ],
            [
             0.1111111111111111,
             "#46039f"
            ],
            [
             0.2222222222222222,
             "#7201a8"
            ],
            [
             0.3333333333333333,
             "#9c179e"
            ],
            [
             0.4444444444444444,
             "#bd3786"
            ],
            [
             0.5555555555555556,
             "#d8576b"
            ],
            [
             0.6666666666666666,
             "#ed7953"
            ],
            [
             0.7777777777777778,
             "#fb9f3a"
            ],
            [
             0.8888888888888888,
             "#fdca26"
            ],
            [
             1,
             "#f0f921"
            ]
           ]
          },
          "colorway": [
           "#636efa",
           "#EF553B",
           "#00cc96",
           "#ab63fa",
           "#FFA15A",
           "#19d3f3",
           "#FF6692",
           "#B6E880",
           "#FF97FF",
           "#FECB52"
          ],
          "font": {
           "color": "#2a3f5f"
          },
          "geo": {
           "bgcolor": "white",
           "lakecolor": "white",
           "landcolor": "#E5ECF6",
           "showlakes": true,
           "showland": true,
           "subunitcolor": "white"
          },
          "hoverlabel": {
           "align": "left"
          },
          "hovermode": "closest",
          "mapbox": {
           "style": "light"
          },
          "paper_bgcolor": "white",
          "plot_bgcolor": "#E5ECF6",
          "polar": {
           "angularaxis": {
            "gridcolor": "white",
            "linecolor": "white",
            "ticks": ""
           },
           "bgcolor": "#E5ECF6",
           "radialaxis": {
            "gridcolor": "white",
            "linecolor": "white",
            "ticks": ""
           }
          },
          "scene": {
           "xaxis": {
            "backgroundcolor": "#E5ECF6",
            "gridcolor": "white",
            "gridwidth": 2,
            "linecolor": "white",
            "showbackground": true,
            "ticks": "",
            "zerolinecolor": "white"
           },
           "yaxis": {
            "backgroundcolor": "#E5ECF6",
            "gridcolor": "white",
            "gridwidth": 2,
            "linecolor": "white",
            "showbackground": true,
            "ticks": "",
            "zerolinecolor": "white"
           },
           "zaxis": {
            "backgroundcolor": "#E5ECF6",
            "gridcolor": "white",
            "gridwidth": 2,
            "linecolor": "white",
            "showbackground": true,
            "ticks": "",
            "zerolinecolor": "white"
           }
          },
          "shapedefaults": {
           "line": {
            "color": "#2a3f5f"
           }
          },
          "ternary": {
           "aaxis": {
            "gridcolor": "white",
            "linecolor": "white",
            "ticks": ""
           },
           "baxis": {
            "gridcolor": "white",
            "linecolor": "white",
            "ticks": ""
           },
           "bgcolor": "#E5ECF6",
           "caxis": {
            "gridcolor": "white",
            "linecolor": "white",
            "ticks": ""
           }
          },
          "title": {
           "x": 0.05
          },
          "xaxis": {
           "automargin": true,
           "gridcolor": "white",
           "linecolor": "white",
           "ticks": "",
           "title": {
            "standoff": 15
           },
           "zerolinecolor": "white",
           "zerolinewidth": 2
          },
          "yaxis": {
           "automargin": true,
           "gridcolor": "white",
           "linecolor": "white",
           "ticks": "",
           "title": {
            "standoff": 15
           },
           "zerolinecolor": "white",
           "zerolinewidth": 2
          }
         }
        },
        "width": 1900,
        "xaxis": {
         "anchor": "y",
         "domain": [
          0,
          1
         ],
         "title": {
          "text": "num_returns"
         }
        },
        "yaxis": {
         "anchor": "x",
         "domain": [
          0,
          1
         ],
         "title": {
          "text": "num_guests"
         }
        }
       }
      }
     },
     "metadata": {},
     "output_type": "display_data"
    }
   ],
   "source": [
    "kmeans = KMeans(n_clusters=3)\n",
    "kmeans.fit(df.iloc[:,2:-1])\n",
    "\n",
    "fig = px.scatter(df, x = 'num_returns', y = 'num_guests', size='num_guests', hover_data=['nights', 'actively_happy_perc'],\n",
    "                 symbol = 'nights', color = 'num_guests', width=1900, height=800, trendline_color_override='black')\n",
    "fig.update_layout(legend=dict(\n",
    "    yanchor=\"top\",\n",
    "    y=0.99,\n",
    "    xanchor=\"left\",\n",
    "    x=0.005,\n",
    "    font = dict(size = 20),\n",
    "    bordercolor=\"Black\",\n",
    "    borderwidth=1\n",
    "))\n",
    "fig.show()"
   ]
  },
  {
   "cell_type": "code",
   "execution_count": null,
   "metadata": {},
   "outputs": [],
   "source": []
  },
  {
   "cell_type": "markdown",
   "metadata": {},
   "source": [
    "# Linear Regression"
   ]
  },
  {
   "cell_type": "code",
   "execution_count": 13,
   "metadata": {},
   "outputs": [],
   "source": [
    "X_train, X_test, y_train, y_test = train_test_split(X,y, train_size = 0.33, random_state = 7)"
   ]
  },
  {
   "cell_type": "code",
   "execution_count": 14,
   "metadata": {},
   "outputs": [
    {
     "data": {
      "text/plain": [
       "19    94\n",
       "6     91\n",
       "11    93\n",
       "0     91\n",
       "44    97\n",
       "7     93\n",
       "48    95\n",
       "4     95\n",
       "38    95\n",
       "39    96\n",
       "62    98\n",
       "26    97\n",
       "42    97\n",
       "46    95\n",
       "67    96\n",
       "8     92\n",
       "66    97\n",
       "14    95\n",
       "57    96\n",
       "23    93\n",
       "25    96\n",
       "47    96\n",
       "Name: break_chs_score, dtype: int64"
      ]
     },
     "execution_count": 14,
     "metadata": {},
     "output_type": "execute_result"
    }
   ],
   "source": [
    "y_train"
   ]
  },
  {
   "cell_type": "code",
   "execution_count": 15,
   "metadata": {},
   "outputs": [],
   "source": [
    "from sklearn.linear_model import LinearRegression\n",
    "\n",
    "reg = LinearRegression().fit(X_train, y_train)"
   ]
  },
  {
   "cell_type": "code",
   "execution_count": 16,
   "metadata": {},
   "outputs": [
    {
     "data": {
      "text/plain": [
       "0.9688561551767799"
      ]
     },
     "execution_count": 16,
     "metadata": {},
     "output_type": "execute_result"
    }
   ],
   "source": [
    "reg.score(X_train, y_train)"
   ]
  },
  {
   "cell_type": "code",
   "execution_count": 17,
   "metadata": {},
   "outputs": [],
   "source": [
    "preds = reg.predict(X_test)"
   ]
  },
  {
   "cell_type": "code",
   "execution_count": 18,
   "metadata": {},
   "outputs": [
    {
     "name": "stdout",
     "output_type": "stream",
     "text": [
      "Predicted value - 97.40233107139863\n",
      "Actual value - 94\n",
      "MSE - 3855.3236904908103\n"
     ]
    }
   ],
   "source": [
    "print(f'Predicted value - {preds[1]}')\n",
    "print(f'Actual value - {y_test[1]}')\n",
    "print(f'MSE - {metrics.mean_squared_error(y_test, preds)}')"
   ]
  },
  {
   "cell_type": "code",
   "execution_count": 19,
   "metadata": {},
   "outputs": [
    {
     "name": "stdout",
     "output_type": "stream",
     "text": [
      "119.16251069633012\n",
      "[-1.53999192e-01 -1.32521092e-02  2.50951086e-02 -9.15646724e+00\n",
      " -1.61512807e-01 -9.49157046e-03  4.08101846e-02 -1.80987672e-01\n",
      " -8.97692358e-02 -4.64663435e-01  4.08289994e+00 -3.54935759e+01\n",
      "  1.48906115e+01 -5.64221270e+01  6.97094261e+01]\n"
     ]
    }
   ],
   "source": [
    "print(reg.intercept_)\n",
    "print(reg.coef_)"
   ]
  },
  {
   "cell_type": "code",
   "execution_count": 20,
   "metadata": {},
   "outputs": [
    {
     "data": {
      "text/html": [
       "<div>\n",
       "<style scoped>\n",
       "    .dataframe tbody tr th:only-of-type {\n",
       "        vertical-align: middle;\n",
       "    }\n",
       "\n",
       "    .dataframe tbody tr th {\n",
       "        vertical-align: top;\n",
       "    }\n",
       "\n",
       "    .dataframe thead th {\n",
       "        text-align: right;\n",
       "    }\n",
       "</style>\n",
       "<table border=\"1\" class=\"dataframe\">\n",
       "  <thead>\n",
       "    <tr style=\"text-align: right;\">\n",
       "      <th></th>\n",
       "      <th>Coefficient</th>\n",
       "    </tr>\n",
       "  </thead>\n",
       "  <tbody>\n",
       "    <tr>\n",
       "      <th>nights</th>\n",
       "      <td>-0.153999</td>\n",
       "    </tr>\n",
       "    <tr>\n",
       "      <th>num_guests</th>\n",
       "      <td>-0.013252</td>\n",
       "    </tr>\n",
       "    <tr>\n",
       "      <th>num_returns</th>\n",
       "      <td>0.025095</td>\n",
       "    </tr>\n",
       "    <tr>\n",
       "      <th>returns_percentage</th>\n",
       "      <td>-9.156467</td>\n",
       "    </tr>\n",
       "    <tr>\n",
       "      <th>chs_to_date</th>\n",
       "      <td>-0.161513</td>\n",
       "    </tr>\n",
       "    <tr>\n",
       "      <th>actively_happy</th>\n",
       "      <td>-0.009492</td>\n",
       "    </tr>\n",
       "    <tr>\n",
       "      <th>happy</th>\n",
       "      <td>0.040810</td>\n",
       "    </tr>\n",
       "    <tr>\n",
       "      <th>neutral</th>\n",
       "      <td>-0.180988</td>\n",
       "    </tr>\n",
       "    <tr>\n",
       "      <th>unhappy</th>\n",
       "      <td>-0.089769</td>\n",
       "    </tr>\n",
       "    <tr>\n",
       "      <th>actively_unhappy</th>\n",
       "      <td>-0.464663</td>\n",
       "    </tr>\n",
       "    <tr>\n",
       "      <th>actively_happy_perc</th>\n",
       "      <td>4.082900</td>\n",
       "    </tr>\n",
       "    <tr>\n",
       "      <th>happy_perc</th>\n",
       "      <td>-35.493576</td>\n",
       "    </tr>\n",
       "    <tr>\n",
       "      <th>neutral_perc</th>\n",
       "      <td>14.890611</td>\n",
       "    </tr>\n",
       "    <tr>\n",
       "      <th>unhappy_perc</th>\n",
       "      <td>-56.422127</td>\n",
       "    </tr>\n",
       "    <tr>\n",
       "      <th>actively_unhappy_perc</th>\n",
       "      <td>69.709426</td>\n",
       "    </tr>\n",
       "  </tbody>\n",
       "</table>\n",
       "</div>"
      ],
      "text/plain": [
       "                       Coefficient\n",
       "nights                   -0.153999\n",
       "num_guests               -0.013252\n",
       "num_returns               0.025095\n",
       "returns_percentage       -9.156467\n",
       "chs_to_date              -0.161513\n",
       "actively_happy           -0.009492\n",
       "happy                     0.040810\n",
       "neutral                  -0.180988\n",
       "unhappy                  -0.089769\n",
       "actively_unhappy         -0.464663\n",
       "actively_happy_perc       4.082900\n",
       "happy_perc              -35.493576\n",
       "neutral_perc             14.890611\n",
       "unhappy_perc            -56.422127\n",
       "actively_unhappy_perc    69.709426"
      ]
     },
     "execution_count": 20,
     "metadata": {},
     "output_type": "execute_result"
    }
   ],
   "source": [
    "coeff_df = pd.DataFrame(reg.coef_, X.columns, columns = ['Coefficient'])\n",
    "coeff_df"
   ]
  },
  {
   "cell_type": "code",
   "execution_count": null,
   "metadata": {},
   "outputs": [],
   "source": []
  }
 ],
 "metadata": {
  "interpreter": {
   "hash": "f6b45e719c84b200046966c3708700940d97a61a0c207e9c54ed28f35ebb1a47"
  },
  "kernelspec": {
   "display_name": "Python 3.8.5 64-bit ('base': conda)",
   "language": "python",
   "name": "python3"
  },
  "language_info": {
   "codemirror_mode": {
    "name": "ipython",
    "version": 3
   },
   "file_extension": ".py",
   "mimetype": "text/x-python",
   "name": "python",
   "nbconvert_exporter": "python",
   "pygments_lexer": "ipython3",
   "version": "3.8.5"
  },
  "orig_nbformat": 4
 },
 "nbformat": 4,
 "nbformat_minor": 2
}
